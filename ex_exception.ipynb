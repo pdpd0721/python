{
  "nbformat": 4,
  "nbformat_minor": 0,
  "metadata": {
    "colab": {
      "name": "ex_exception.ipynb",
      "provenance": [],
      "authorship_tag": "ABX9TyO7U9jtE6OfufIV5wZQQCMx"
    },
    "kernelspec": {
      "name": "python3",
      "display_name": "Python 3"
    },
    "language_info": {
      "name": "python"
    }
  },
  "cells": [
    {
      "cell_type": "markdown",
      "source": [
        ""
      ],
      "metadata": {
        "id": "sCGB1N8ItnA5"
      }
    },
    {
      "cell_type": "code",
      "execution_count": null,
      "metadata": {
        "colab": {
          "base_uri": "https://localhost:8080/"
        },
        "id": "bjR_6Pmcro5Y",
        "outputId": "dc54da2b-82d3-41ae-e862-78e20808d733"
      },
      "outputs": [
        {
          "output_type": "stream",
          "name": "stdout",
          "text": [
            "The entry is a\n",
            "Oops! <class 'ValueError'> occurred.\n",
            "Next entry\n",
            "\n",
            "The entry is 0\n",
            "Oops! <class 'ZeroDivisionError'> occurred.\n",
            "Next entry\n",
            "\n",
            "The entry is 2\n",
            "The reciprocal of 2 is 0.5\n"
          ]
        }
      ],
      "source": [
        "import sys\n",
        "\n",
        "randomList = ['a',0,2]\n",
        "\n",
        "for entry in randomList:\n",
        "  try :\n",
        "    print(\"The entry is\", entry)\n",
        "    r = 1/int(entry)\n",
        "    break\n",
        "  except :\n",
        "    print(\"Oops!\", sys.exc_info()[0],\"occurred.\")\n",
        "    print(\"Next entry\")\n",
        "    print()\n",
        "    \n",
        "''' 다른 제외 처리\n",
        "except Exception as e :\n",
        "  print(\"Oops\",e.__class__,\"occurred.\")\n",
        "  print()\n",
        "'''\n",
        "\n",
        "print(\"The reciprocal of\",entry,\"is\",r)  "
      ]
    },
    {
      "cell_type": "code",
      "source": [
        "try:\n",
        "  num = int(input(\"Enter a number:\"))\n",
        "  assert num % 2 ==0, \"error\"\n",
        "except:\n",
        "  print(\"Not an even number!\")\n",
        "else:\n",
        "  reciprocal= 1/num  "
      ],
      "metadata": {
        "colab": {
          "base_uri": "https://localhost:8080/"
        },
        "id": "q0lmAUSUsr_3",
        "outputId": "7a215f18-9775-43ed-f97a-e9fc847c118f"
      },
      "execution_count": null,
      "outputs": [
        {
          "output_type": "stream",
          "name": "stdout",
          "text": [
            "Enter a number:3\n",
            "Not an even number!\n"
          ]
        }
      ]
    },
    {
      "cell_type": "code",
      "source": [
        "#숫자3개입력, 2의 배수인 경우 저장햇습니당, 아닌경우 잘못입력햇습니당 => 반복\n",
        "#for구문 사용\n",
        "L = []\n",
        "\n",
        "for i in range(0,3) :\n",
        "  try:\n",
        "    num = int(input('숫자를 입력해주세요>> '))\n",
        "    assert num % 2 == 0\n",
        "  except:    \n",
        "    print(\"잘못 입력했습니다.\")\n",
        "  else:\n",
        "    L = num\n",
        "    print(\"저장했습니다.\")\n",
        "\n",
        "print('=>', L)"
      ],
      "metadata": {
        "colab": {
          "base_uri": "https://localhost:8080/"
        },
        "id": "Tm3BTiX1tpPP",
        "outputId": "ccb8a1f5-ee05-4754-8dbc-807c48ea6b24"
      },
      "execution_count": null,
      "outputs": [
        {
          "output_type": "stream",
          "name": "stdout",
          "text": [
            "숫자를 입력해주세요>> 2\n",
            "저장했습니다.\n",
            "숫자를 입력해주세요>> 5\n",
            "잘못 입력했습니다.\n",
            "숫자를 입력해주세요>> 1\n",
            "잘못 입력했습니다.\n",
            "=> 2\n"
          ]
        }
      ]
    },
    {
      "cell_type": "code",
      "source": [
        "#while 사용, 짝수가 3개 나올 때 종료\n",
        "\n",
        "L=[]\n",
        "\n",
        "while True:\n",
        "  if len(L) == 3 :\n",
        "    break\n",
        "  try:\n",
        "    num = int(input('숫자를 입력해주세요>> '))\n",
        "    assert num % 2 == 0\n",
        "  except:    \n",
        "    print(\"잘못 입력했습니다.\")\n",
        "  else:\n",
        "    L.append(num)\n",
        "    print(\"저장했습니다.\")\n",
        "\n",
        "print(L)"
      ],
      "metadata": {
        "colab": {
          "base_uri": "https://localhost:8080/"
        },
        "id": "bbH2XISs1dhl",
        "outputId": "825c75f5-b925-402f-ab02-b3b460dc53a2"
      },
      "execution_count": null,
      "outputs": [
        {
          "output_type": "stream",
          "name": "stdout",
          "text": [
            "숫자를 입력해주세요>> 40\n",
            "저장했습니다.\n",
            "숫자를 입력해주세요>> 2\n",
            "저장했습니다.\n",
            "숫자를 입력해주세요>> 5\n",
            "잘못 입력했습니다.\n",
            "숫자를 입력해주세요>> 7\n",
            "잘못 입력했습니다.\n",
            "숫자를 입력해주세요>> 10\n",
            "저장했습니다.\n",
            "[40, 2, 10]\n"
          ]
        }
      ]
    }
  ]
}